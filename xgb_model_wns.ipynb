{
 "cells": [
  {
   "cell_type": "code",
   "execution_count": 1,
   "metadata": {},
   "outputs": [],
   "source": [
    "# Load required libraries\n",
    "import numpy as np\n",
    "import pandas as pd\n",
    "\n",
    "# Custom utils from kesh-utils (Check source code: https://github.com/KeshavShetty/kesh-utils)\n",
    "from KUtils.common import utils\n",
    "from KUtils.eda import chartil\n",
    "from KUtils.eda import data_preparation as dp\n",
    "from KUtils.classifier import generic_classifier_utils as gcu\n",
    "\n",
    "from sklearn import metrics\n",
    "from sklearn.metrics import classification_report, confusion_matrix, accuracy_score, make_scorer, recall_score, precision_score\n"
   ]
  },
  {
   "cell_type": "code",
   "execution_count": 2,
   "metadata": {},
   "outputs": [],
   "source": [
    "# Show all column in head()\n",
    "pd.set_option('display.max_columns', None)"
   ]
  },
  {
   "cell_type": "code",
   "execution_count": 3,
   "metadata": {},
   "outputs": [],
   "source": [
    "import warnings\n",
    "warnings.filterwarnings(action='ignore', category=DeprecationWarning)"
   ]
  },
  {
   "cell_type": "code",
   "execution_count": 4,
   "metadata": {},
   "outputs": [],
   "source": [
    "# Data generated from ../Sampleing.ipyb\n",
    "train_df = pd.read_csv('wns_train_df.csv')\n",
    "\n",
    "test_df = pd.read_csv('wns_test_df.csv')\n"
   ]
  },
  {
   "cell_type": "code",
   "execution_count": 5,
   "metadata": {},
   "outputs": [
    {
     "name": "stdout",
     "output_type": "stream",
     "text": [
      "(237609, 17)\n",
      "(90675, 16)\n"
     ]
    }
   ],
   "source": [
    "print(train_df.shape)\n",
    "   \n",
    "print(test_df.shape)\n"
   ]
  },
  {
   "cell_type": "code",
   "execution_count": 6,
   "metadata": {},
   "outputs": [
    {
     "data": {
      "text/html": [
       "<div>\n",
       "<style scoped>\n",
       "    .dataframe tbody tr th:only-of-type {\n",
       "        vertical-align: middle;\n",
       "    }\n",
       "\n",
       "    .dataframe tbody tr th {\n",
       "        vertical-align: top;\n",
       "    }\n",
       "\n",
       "    .dataframe thead th {\n",
       "        text-align: right;\n",
       "    }\n",
       "</style>\n",
       "<table border=\"1\" class=\"dataframe\">\n",
       "  <thead>\n",
       "    <tr style=\"text-align: right;\">\n",
       "      <th></th>\n",
       "      <th>impression_id</th>\n",
       "      <th>user_id</th>\n",
       "      <th>app_code</th>\n",
       "      <th>is_4G</th>\n",
       "      <th>is_click</th>\n",
       "      <th>items_count</th>\n",
       "      <th>sessions_count</th>\n",
       "      <th>item_price_mean</th>\n",
       "      <th>app_summary</th>\n",
       "      <th>intermediate</th>\n",
       "      <th>latest</th>\n",
       "      <th>old</th>\n",
       "      <th>app_count</th>\n",
       "      <th>device_type</th>\n",
       "      <th>user_id_check</th>\n",
       "      <th>item_price_server_time_hour_min_max</th>\n",
       "      <th>item_price_server_time_hour_std_score</th>\n",
       "    </tr>\n",
       "  </thead>\n",
       "  <tbody>\n",
       "    <tr>\n",
       "      <th>0</th>\n",
       "      <td>c4ca4238a0b923820dcc509a6f75849b</td>\n",
       "      <td>87862</td>\n",
       "      <td>422</td>\n",
       "      <td>0</td>\n",
       "      <td>0</td>\n",
       "      <td>1</td>\n",
       "      <td>1</td>\n",
       "      <td>2350.000000</td>\n",
       "      <td>0.082192</td>\n",
       "      <td>0</td>\n",
       "      <td>0</td>\n",
       "      <td>1</td>\n",
       "      <td>3</td>\n",
       "      <td>1</td>\n",
       "      <td>0</td>\n",
       "      <td>0.001749</td>\n",
       "      <td>-0.335557</td>\n",
       "    </tr>\n",
       "    <tr>\n",
       "      <th>1</th>\n",
       "      <td>45c48cce2e2d7fbdea1afc51c7c6ad26</td>\n",
       "      <td>63410</td>\n",
       "      <td>467</td>\n",
       "      <td>1</td>\n",
       "      <td>1</td>\n",
       "      <td>12</td>\n",
       "      <td>1</td>\n",
       "      <td>4452.833333</td>\n",
       "      <td>0.085714</td>\n",
       "      <td>0</td>\n",
       "      <td>1</td>\n",
       "      <td>0</td>\n",
       "      <td>52</td>\n",
       "      <td>1</td>\n",
       "      <td>1</td>\n",
       "      <td>0.000760</td>\n",
       "      <td>-0.389445</td>\n",
       "    </tr>\n",
       "    <tr>\n",
       "      <th>2</th>\n",
       "      <td>70efdf2ec9b086079795c442636b55fb</td>\n",
       "      <td>71748</td>\n",
       "      <td>259</td>\n",
       "      <td>1</td>\n",
       "      <td>0</td>\n",
       "      <td>2</td>\n",
       "      <td>1</td>\n",
       "      <td>1598.500000</td>\n",
       "      <td>0.067164</td>\n",
       "      <td>1</td>\n",
       "      <td>0</td>\n",
       "      <td>0</td>\n",
       "      <td>9</td>\n",
       "      <td>1</td>\n",
       "      <td>1</td>\n",
       "      <td>0.001655</td>\n",
       "      <td>-0.340678</td>\n",
       "    </tr>\n",
       "    <tr>\n",
       "      <th>3</th>\n",
       "      <td>8e296a067a37563370ded05f5a3bf3ec</td>\n",
       "      <td>69209</td>\n",
       "      <td>244</td>\n",
       "      <td>1</td>\n",
       "      <td>0</td>\n",
       "      <td>18</td>\n",
       "      <td>1</td>\n",
       "      <td>9963.388889</td>\n",
       "      <td>0.034424</td>\n",
       "      <td>0</td>\n",
       "      <td>1</td>\n",
       "      <td>0</td>\n",
       "      <td>4</td>\n",
       "      <td>1</td>\n",
       "      <td>0</td>\n",
       "      <td>0.013555</td>\n",
       "      <td>0.307723</td>\n",
       "    </tr>\n",
       "    <tr>\n",
       "      <th>4</th>\n",
       "      <td>182be0c5cdcd5072bb1864cdee4d3d6e</td>\n",
       "      <td>62873</td>\n",
       "      <td>473</td>\n",
       "      <td>0</td>\n",
       "      <td>0</td>\n",
       "      <td>45</td>\n",
       "      <td>1</td>\n",
       "      <td>8796.400000</td>\n",
       "      <td>0.000000</td>\n",
       "      <td>0</td>\n",
       "      <td>1</td>\n",
       "      <td>0</td>\n",
       "      <td>16</td>\n",
       "      <td>1</td>\n",
       "      <td>0</td>\n",
       "      <td>0.002101</td>\n",
       "      <td>-0.316376</td>\n",
       "    </tr>\n",
       "  </tbody>\n",
       "</table>\n",
       "</div>"
      ],
      "text/plain": [
       "                      impression_id  user_id  app_code  is_4G  is_click  \\\n",
       "0  c4ca4238a0b923820dcc509a6f75849b    87862       422      0         0   \n",
       "1  45c48cce2e2d7fbdea1afc51c7c6ad26    63410       467      1         1   \n",
       "2  70efdf2ec9b086079795c442636b55fb    71748       259      1         0   \n",
       "3  8e296a067a37563370ded05f5a3bf3ec    69209       244      1         0   \n",
       "4  182be0c5cdcd5072bb1864cdee4d3d6e    62873       473      0         0   \n",
       "\n",
       "   items_count  sessions_count  item_price_mean  app_summary  intermediate  \\\n",
       "0            1               1      2350.000000     0.082192             0   \n",
       "1           12               1      4452.833333     0.085714             0   \n",
       "2            2               1      1598.500000     0.067164             1   \n",
       "3           18               1      9963.388889     0.034424             0   \n",
       "4           45               1      8796.400000     0.000000             0   \n",
       "\n",
       "   latest  old  app_count  device_type  user_id_check  \\\n",
       "0       0    1          3            1              0   \n",
       "1       1    0         52            1              1   \n",
       "2       0    0          9            1              1   \n",
       "3       1    0          4            1              0   \n",
       "4       1    0         16            1              0   \n",
       "\n",
       "   item_price_server_time_hour_min_max  item_price_server_time_hour_std_score  \n",
       "0                             0.001749                              -0.335557  \n",
       "1                             0.000760                              -0.389445  \n",
       "2                             0.001655                              -0.340678  \n",
       "3                             0.013555                               0.307723  \n",
       "4                             0.002101                              -0.316376  "
      ]
     },
     "execution_count": 6,
     "metadata": {},
     "output_type": "execute_result"
    }
   ],
   "source": [
    "train_df.head()"
   ]
  },
  {
   "cell_type": "code",
   "execution_count": 7,
   "metadata": {},
   "outputs": [
    {
     "data": {
      "text/html": [
       "<div>\n",
       "<style scoped>\n",
       "    .dataframe tbody tr th:only-of-type {\n",
       "        vertical-align: middle;\n",
       "    }\n",
       "\n",
       "    .dataframe tbody tr th {\n",
       "        vertical-align: top;\n",
       "    }\n",
       "\n",
       "    .dataframe thead th {\n",
       "        text-align: right;\n",
       "    }\n",
       "</style>\n",
       "<table border=\"1\" class=\"dataframe\">\n",
       "  <thead>\n",
       "    <tr style=\"text-align: right;\">\n",
       "      <th></th>\n",
       "      <th>impression_id</th>\n",
       "      <th>user_id</th>\n",
       "      <th>app_code</th>\n",
       "      <th>is_4G</th>\n",
       "      <th>items_count</th>\n",
       "      <th>sessions_count</th>\n",
       "      <th>item_price_mean</th>\n",
       "      <th>app_summary</th>\n",
       "      <th>intermediate</th>\n",
       "      <th>latest</th>\n",
       "      <th>old</th>\n",
       "      <th>app_count</th>\n",
       "      <th>device_type</th>\n",
       "      <th>user_id_check</th>\n",
       "      <th>item_price_server_time_hour_min_max</th>\n",
       "      <th>item_price_server_time_hour_std_score</th>\n",
       "    </tr>\n",
       "  </thead>\n",
       "  <tbody>\n",
       "    <tr>\n",
       "      <th>0</th>\n",
       "      <td>a9e7126a585a69a32bc7414e9d0c0ada</td>\n",
       "      <td>44754</td>\n",
       "      <td>127</td>\n",
       "      <td>1</td>\n",
       "      <td>1</td>\n",
       "      <td>1</td>\n",
       "      <td>23424.000000</td>\n",
       "      <td>0.046154</td>\n",
       "      <td>0</td>\n",
       "      <td>1</td>\n",
       "      <td>0</td>\n",
       "      <td>NaN</td>\n",
       "      <td>1</td>\n",
       "      <td>0</td>\n",
       "      <td>0.017467</td>\n",
       "      <td>0.520876</td>\n",
       "    </tr>\n",
       "    <tr>\n",
       "      <th>1</th>\n",
       "      <td>caac14a5bf2ba283db7708bb34855760</td>\n",
       "      <td>29656</td>\n",
       "      <td>44</td>\n",
       "      <td>0</td>\n",
       "      <td>70</td>\n",
       "      <td>1</td>\n",
       "      <td>11010.428571</td>\n",
       "      <td>NaN</td>\n",
       "      <td>0</td>\n",
       "      <td>1</td>\n",
       "      <td>0</td>\n",
       "      <td>6.0</td>\n",
       "      <td>1</td>\n",
       "      <td>1</td>\n",
       "      <td>0.000212</td>\n",
       "      <td>-0.419315</td>\n",
       "    </tr>\n",
       "    <tr>\n",
       "      <th>2</th>\n",
       "      <td>13f10ba306a19ce7bec2f3cae507b698</td>\n",
       "      <td>25234</td>\n",
       "      <td>296</td>\n",
       "      <td>1</td>\n",
       "      <td>8</td>\n",
       "      <td>1</td>\n",
       "      <td>5331.875000</td>\n",
       "      <td>0.070988</td>\n",
       "      <td>0</td>\n",
       "      <td>1</td>\n",
       "      <td>0</td>\n",
       "      <td>NaN</td>\n",
       "      <td>1</td>\n",
       "      <td>0</td>\n",
       "      <td>0.001574</td>\n",
       "      <td>-0.345067</td>\n",
       "    </tr>\n",
       "    <tr>\n",
       "      <th>3</th>\n",
       "      <td>39c4b4dc0e9701b55a0a4f072008fb3f</td>\n",
       "      <td>22988</td>\n",
       "      <td>207</td>\n",
       "      <td>1</td>\n",
       "      <td>35</td>\n",
       "      <td>1</td>\n",
       "      <td>14800.628571</td>\n",
       "      <td>0.047619</td>\n",
       "      <td>0</td>\n",
       "      <td>1</td>\n",
       "      <td>0</td>\n",
       "      <td>7.0</td>\n",
       "      <td>1</td>\n",
       "      <td>1</td>\n",
       "      <td>0.003088</td>\n",
       "      <td>-0.262610</td>\n",
       "    </tr>\n",
       "    <tr>\n",
       "      <th>4</th>\n",
       "      <td>bf5a572cca75f5fc67f4b14e58b11d70</td>\n",
       "      <td>35431</td>\n",
       "      <td>242</td>\n",
       "      <td>1</td>\n",
       "      <td>28</td>\n",
       "      <td>1</td>\n",
       "      <td>8778.285714</td>\n",
       "      <td>NaN</td>\n",
       "      <td>0</td>\n",
       "      <td>1</td>\n",
       "      <td>0</td>\n",
       "      <td>20.0</td>\n",
       "      <td>1</td>\n",
       "      <td>1</td>\n",
       "      <td>0.008576</td>\n",
       "      <td>0.036455</td>\n",
       "    </tr>\n",
       "  </tbody>\n",
       "</table>\n",
       "</div>"
      ],
      "text/plain": [
       "                      impression_id  user_id  app_code  is_4G  items_count  \\\n",
       "0  a9e7126a585a69a32bc7414e9d0c0ada    44754       127      1            1   \n",
       "1  caac14a5bf2ba283db7708bb34855760    29656        44      0           70   \n",
       "2  13f10ba306a19ce7bec2f3cae507b698    25234       296      1            8   \n",
       "3  39c4b4dc0e9701b55a0a4f072008fb3f    22988       207      1           35   \n",
       "4  bf5a572cca75f5fc67f4b14e58b11d70    35431       242      1           28   \n",
       "\n",
       "   sessions_count  item_price_mean  app_summary  intermediate  latest  old  \\\n",
       "0               1     23424.000000     0.046154             0       1    0   \n",
       "1               1     11010.428571          NaN             0       1    0   \n",
       "2               1      5331.875000     0.070988             0       1    0   \n",
       "3               1     14800.628571     0.047619             0       1    0   \n",
       "4               1      8778.285714          NaN             0       1    0   \n",
       "\n",
       "   app_count  device_type  user_id_check  item_price_server_time_hour_min_max  \\\n",
       "0        NaN            1              0                             0.017467   \n",
       "1        6.0            1              1                             0.000212   \n",
       "2        NaN            1              0                             0.001574   \n",
       "3        7.0            1              1                             0.003088   \n",
       "4       20.0            1              1                             0.008576   \n",
       "\n",
       "   item_price_server_time_hour_std_score  \n",
       "0                               0.520876  \n",
       "1                              -0.419315  \n",
       "2                              -0.345067  \n",
       "3                              -0.262610  \n",
       "4                               0.036455  "
      ]
     },
     "execution_count": 7,
     "metadata": {},
     "output_type": "execute_result"
    }
   ],
   "source": [
    "test_df.head()"
   ]
  },
  {
   "cell_type": "markdown",
   "metadata": {},
   "source": [
    "# 1. Model 1 on inner (With Bayesian Optimization)"
   ]
  },
  {
   "cell_type": "code",
   "execution_count": 8,
   "metadata": {},
   "outputs": [],
   "source": [
    "train_df = train_df\n",
    "# Putting feature variable to X\n",
    "X = train_df.drop(['impression_id', 'is_click'],axis=1)\n",
    "\n",
    "# Putting response variable to y\n",
    "y = train_df['is_click']\n",
    "\n",
    "X_train = X\n",
    "y_train = y\n",
    "\n",
    "X_test = X\n",
    "y_test = y"
   ]
  },
  {
   "cell_type": "code",
   "execution_count": 9,
   "metadata": {},
   "outputs": [
    {
     "name": "stdout",
     "output_type": "stream",
     "text": [
      "|   iter    |  target   | colsam... |   gamma   | learni... | max_depth | n_esti... | subsample |\n",
      "-------------------------------------------------------------------------------------------------\n"
     ]
    },
    {
     "name": "stderr",
     "output_type": "stream",
     "text": [
      "/home/kooud/anaconda3/lib/python3.7/site-packages/xgboost/core.py:587: FutureWarning: Series.base is deprecated and will be removed in a future version\n",
      "  if getattr(data, 'base', None) is not None and \\\n",
      "/home/kooud/anaconda3/lib/python3.7/site-packages/xgboost/core.py:588: FutureWarning: Series.base is deprecated and will be removed in a future version\n",
      "  data.base is not None and isinstance(data, np.ndarray) \\\n"
     ]
    },
    {
     "name": "stdout",
     "output_type": "stream",
     "text": [
      "| \u001b[0m 1       \u001b[0m | \u001b[0m-0.2058  \u001b[0m | \u001b[0m 0.5514  \u001b[0m | \u001b[0m 0.853   \u001b[0m | \u001b[0m 0.1845  \u001b[0m | \u001b[0m 8.749   \u001b[0m | \u001b[0m 331.6   \u001b[0m | \u001b[0m 0.5845  \u001b[0m |\n",
      "| \u001b[0m 2       \u001b[0m | \u001b[0m-0.2312  \u001b[0m | \u001b[0m 0.8809  \u001b[0m | \u001b[0m 0.3054  \u001b[0m | \u001b[0m 0.509   \u001b[0m | \u001b[0m 12.53   \u001b[0m | \u001b[0m 464.2   \u001b[0m | \u001b[0m 0.4018  \u001b[0m |\n",
      "| \u001b[0m 3       \u001b[0m | \u001b[0m-0.2061  \u001b[0m | \u001b[0m 0.6028  \u001b[0m | \u001b[0m 0.4577  \u001b[0m | \u001b[0m 0.3632  \u001b[0m | \u001b[0m 6.638   \u001b[0m | \u001b[0m 432.3   \u001b[0m | \u001b[0m 0.7621  \u001b[0m |\n",
      "| \u001b[0m 4       \u001b[0m | \u001b[0m-0.2317  \u001b[0m | \u001b[0m 0.6046  \u001b[0m | \u001b[0m 0.279   \u001b[0m | \u001b[0m 0.4932  \u001b[0m | \u001b[0m 12.83   \u001b[0m | \u001b[0m 387.1   \u001b[0m | \u001b[0m 0.3645  \u001b[0m |\n",
      "| \u001b[0m 5       \u001b[0m | \u001b[0m-0.2099  \u001b[0m | \u001b[0m 0.23    \u001b[0m | \u001b[0m 0.3613  \u001b[0m | \u001b[0m 0.7579  \u001b[0m | \u001b[0m 9.942   \u001b[0m | \u001b[0m 346.8   \u001b[0m | \u001b[0m 0.8626  \u001b[0m |\n",
      "| \u001b[0m 6       \u001b[0m | \u001b[0m-0.2062  \u001b[0m | \u001b[0m 0.6311  \u001b[0m | \u001b[0m 0.1336  \u001b[0m | \u001b[0m 0.0978  \u001b[0m | \u001b[0m 11.71   \u001b[0m | \u001b[0m 495.8   \u001b[0m | \u001b[0m 0.3972  \u001b[0m |\n",
      "| \u001b[0m 7       \u001b[0m | \u001b[0m-0.229   \u001b[0m | \u001b[0m 0.674   \u001b[0m | \u001b[0m 0.65    \u001b[0m | \u001b[0m 0.7058  \u001b[0m | \u001b[0m 9.469   \u001b[0m | \u001b[0m 413.7   \u001b[0m | \u001b[0m 0.3377  \u001b[0m |\n",
      "| \u001b[0m 8       \u001b[0m | \u001b[0m-0.2134  \u001b[0m | \u001b[0m 0.6874  \u001b[0m | \u001b[0m 0.8662  \u001b[0m | \u001b[0m 0.9187  \u001b[0m | \u001b[0m 5.077   \u001b[0m | \u001b[0m 358.3   \u001b[0m | \u001b[0m 0.3186  \u001b[0m |\n",
      "| \u001b[0m 9       \u001b[0m | \u001b[0m-0.2071  \u001b[0m | \u001b[0m 0.02726 \u001b[0m | \u001b[0m 0.09004 \u001b[0m | \u001b[0m 0.224   \u001b[0m | \u001b[0m 12.92   \u001b[0m | \u001b[0m 300.1   \u001b[0m | \u001b[0m 0.9737  \u001b[0m |\n",
      "| \u001b[0m 10      \u001b[0m | \u001b[0m-0.2067  \u001b[0m | \u001b[0m 0.0     \u001b[0m | \u001b[0m 1.0     \u001b[0m | \u001b[0m 1.0     \u001b[0m | \u001b[0m 5.0     \u001b[0m | \u001b[0m 500.0   \u001b[0m | \u001b[0m 1.0     \u001b[0m |\n",
      "| \u001b[0m 11      \u001b[0m | \u001b[0m-0.2093  \u001b[0m | \u001b[0m 0.1346  \u001b[0m | \u001b[0m 0.3307  \u001b[0m | \u001b[0m 0.03987 \u001b[0m | \u001b[0m 5.114   \u001b[0m | \u001b[0m 300.0   \u001b[0m | \u001b[0m 0.9683  \u001b[0m |\n",
      "| \u001b[0m 12      \u001b[0m | \u001b[0m-0.2688  \u001b[0m | \u001b[0m 0.05799 \u001b[0m | \u001b[0m 0.0     \u001b[0m | \u001b[0m 0.01401 \u001b[0m | \u001b[0m 5.0     \u001b[0m | \u001b[0m 489.3   \u001b[0m | \u001b[0m 0.0     \u001b[0m |\n",
      "| \u001b[0m 13      \u001b[0m | \u001b[0m-0.2075  \u001b[0m | \u001b[0m 0.03672 \u001b[0m | \u001b[0m 0.9235  \u001b[0m | \u001b[0m 0.1367  \u001b[0m | \u001b[0m 12.81   \u001b[0m | \u001b[0m 436.9   \u001b[0m | \u001b[0m 0.8804  \u001b[0m |\n",
      "=================================================================================================\n"
     ]
    }
   ],
   "source": [
    "import xgboost as xgb\n",
    "\n",
    "dtrain = xgb.DMatrix(X_train, label=y_train)\n",
    "\n",
    "from bayes_opt import BayesianOptimization\n",
    "\n",
    "def bo_tune_xgb(max_depth, gamma, n_estimators ,learning_rate, subsample, colsample_bytree):\n",
    "    params = {'max_depth': int(max_depth),\n",
    "        'gamma': gamma,\n",
    "        'n_estimators': int(n_estimators),\n",
    "        'learning_rate':learning_rate,\n",
    "        'subsample': subsample,\n",
    "        'colsample_bytree': colsample_bytree,\n",
    "        'tree_method': 'gpu_hist',\n",
    "        'eval_metric': 'rmse'}\n",
    "    #Cross validating with the specified parameters in 5 folds and 70 iterations\n",
    "    cv_result = xgb.cv(params, dtrain, num_boost_round=70, nfold=5)\n",
    "    #Return the negative RMSE\n",
    "    return -1.0*cv_result['test-rmse-mean'].iloc[-1]\n",
    "\n",
    "xgb_bo = BayesianOptimization(bo_tune_xgb, {\n",
    "    'max_depth': (5,13),\n",
    "    'gamma': (0, 1),\n",
    "    'learning_rate':(0, 1),\n",
    "    'n_estimators':(300, 500),\n",
    "    'subsample': (0,1),\n",
    "    'colsample_bytree': (0,1)                                            \n",
    "})\n",
    "xgb_bo.maximize(n_iter=5, init_points=8)"
   ]
  },
  {
   "cell_type": "code",
   "execution_count": 10,
   "metadata": {},
   "outputs": [
    {
     "name": "stdout",
     "output_type": "stream",
     "text": [
      "{'colsample_bytree': 0.5513825541939047, 'gamma': 0.853044478989406, 'learning_rate': 0.18453834789380041, 'max_depth': 8.749130811171483, 'n_estimators': 331.60189077117843, 'subsample': 0.5844926438775926}\n",
      "{'colsample_bytree': 0.5513825541939047, 'gamma': 0.853044478989406, 'learning_rate': 0.18453834789380041, 'max_depth': 8, 'n_estimators': 331, 'subsample': 0.5844926438775926, 'tree_method': 'gpu_hist'}\n"
     ]
    }
   ],
   "source": [
    "#Extracting the best parameters\n",
    "params = xgb_bo.max['params']\n",
    "print(params)\n",
    "\n",
    "#Converting the max_depth and n_estimator values from float to int\n",
    "params['max_depth']= int(params['max_depth'])\n",
    "params['n_estimators']= int(params['n_estimators'])\n",
    "params['tree_method']= 'gpu_hist'\n",
    "print(params)\n",
    "\n",
    "#Initialize an XGBClassifier with the tuned parameters and fit the training data\n",
    "from xgboost import XGBClassifier\n",
    "final_clf = XGBClassifier(**params).fit(X_train, y_train)\n",
    "\n",
    "#predicting for training set\n",
    "y_pred_default = final_clf.predict(X_test)"
   ]
  },
  {
   "cell_type": "code",
   "execution_count": 11,
   "metadata": {},
   "outputs": [],
   "source": [
    "inner_model = final_clf"
   ]
  },
  {
   "cell_type": "code",
   "execution_count": 12,
   "metadata": {},
   "outputs": [
    {
     "name": "stdout",
     "output_type": "stream",
     "text": [
      "              precision    recall  f1-score   support\n",
      "\n",
      "           0       0.96      1.00      0.98    226747\n",
      "           1       0.81      0.07      0.12     10862\n",
      "\n",
      "    accuracy                           0.96    237609\n",
      "   macro avg       0.89      0.53      0.55    237609\n",
      "weighted avg       0.95      0.96      0.94    237609\n",
      "\n",
      "Confusion Matrix:\n",
      "[[226581    166]\n",
      " [ 10135    727]]\n",
      "\n",
      "Scores:\n",
      " Accuracy 0.957, \n",
      " Sensitivity 0.067, \n",
      " Specificity 0.999, \n",
      " Precision 0.814, \n",
      " Recall 0.067, \n",
      " f1_score 0.124, \n",
      " roc_auc 0.533\n"
     ]
    }
   ],
   "source": [
    "# Printing classification report\n",
    "print(classification_report(y_test, y_pred_default))\n",
    "\n",
    "local_confusion_matrix = metrics.confusion_matrix(y_test, y_pred_default )\n",
    "\n",
    "# Printing confusion matrix and accuracy\n",
    "print('Confusion Matrix:')\n",
    "print(local_confusion_matrix)\n",
    "\n",
    "# Accuracy, precision, recall and f1 score\n",
    "print('\\nScores:')\n",
    "accuracy = metrics.accuracy_score(y_test, y_pred_default)\n",
    "precision = metrics.precision_score(y_test, y_pred_default)\n",
    "recall = metrics.recall_score(y_test, y_pred_default)\n",
    "f1_score = metrics.f1_score(y_test, y_pred_default)\n",
    "roc_auc = metrics.roc_auc_score(y_test, y_pred_default)\n",
    "sensitivity = recall\n",
    "specificity =  local_confusion_matrix[0,0]/(local_confusion_matrix[0,0]+local_confusion_matrix[0,1])\n",
    "print(\" Accuracy {0:.3f}, \\n Sensitivity {1:.3f}, \\n Specificity {2:.3f}, \\n Precision {3:.3f}, \\n Recall {4:.3f}, \\n f1_score {5:.3f}, \\n roc_auc {6:.3f}\".format(\n",
    "    accuracy, sensitivity,specificity, precision,recall,f1_score,roc_auc))"
   ]
  },
  {
   "cell_type": "code",
   "execution_count": 13,
   "metadata": {
    "scrolled": true
   },
   "outputs": [
    {
     "data": {
      "image/png": "[encoded data removed]",
      "text/plain": [
       "<Figure size 1224x792 with 1 Axes>"
      ]
     },
     "metadata": {
      "needs_background": "light"
     },
     "output_type": "display_data"
    }
   ],
   "source": [
    "# Feature importance\n",
    "importances = final_clf.feature_importances_\n",
    "unique_dict = dict(zip(X_train.columns, importances))\n",
    "chartil.core_barchart_from_series(\n",
    "    pd.Series(unique_dict), \n",
    "    optional_settings={'sort_by_value':True, 'decimal_precision':2}) "
   ]
  },
  {
   "cell_type": "code",
   "execution_count": 14,
   "metadata": {},
   "outputs": [
    {
     "name": "stdout",
     "output_type": "stream",
     "text": [
      "XGBClassifier(base_score=0.5, booster='gbtree', colsample_bylevel=1,\n",
      "              colsample_bynode=1, colsample_bytree=0.5513825541939047,\n",
      "              gamma=0.853044478989406, learning_rate=0.18453834789380041,\n",
      "              max_delta_step=0, max_depth=8, min_child_weight=1, missing=None,\n",
      "              n_estimators=331, n_jobs=1, nthread=None,\n",
      "              objective='binary:logistic', random_state=0, reg_alpha=0,\n",
      "              reg_lambda=1, scale_pos_weight=1, seed=None, silent=None,\n",
      "              subsample=0.5844926438775926, tree_method='gpu_hist',\n",
      "              verbosity=1)\n"
     ]
    }
   ],
   "source": [
    "print(inner_model)\n"
   ]
  },
  {
   "cell_type": "markdown",
   "metadata": {},
   "source": [
    "# Apply final model on test "
   ]
  },
  {
   "cell_type": "code",
   "execution_count": 15,
   "metadata": {},
   "outputs": [
    {
     "data": {
      "text/plain": [
       "Index(['impression_id', 'user_id', 'app_code', 'is_4G', 'items_count',\n",
       "       'sessions_count', 'item_price_mean', 'app_summary', 'intermediate',\n",
       "       'latest', 'old', 'app_count', 'device_type', 'user_id_check',\n",
       "       'item_price_server_time_hour_min_max',\n",
       "       'item_price_server_time_hour_std_score'],\n",
       "      dtype='object')"
      ]
     },
     "execution_count": 15,
     "metadata": {},
     "output_type": "execute_result"
    }
   ],
   "source": [
    "test_df.columns"
   ]
  },
  {
   "cell_type": "code",
   "execution_count": 16,
   "metadata": {},
   "outputs": [
    {
     "data": {
      "text/plain": [
       "Index(['impression_id', 'user_id', 'app_code', 'is_4G', 'is_click',\n",
       "       'items_count', 'sessions_count', 'item_price_mean', 'app_summary',\n",
       "       'intermediate', 'latest', 'old', 'app_count', 'device_type',\n",
       "       'user_id_check', 'item_price_server_time_hour_min_max',\n",
       "       'item_price_server_time_hour_std_score'],\n",
       "      dtype='object')"
      ]
     },
     "execution_count": 16,
     "metadata": {},
     "output_type": "execute_result"
    }
   ],
   "source": [
    "train_df.columns"
   ]
  },
  {
   "cell_type": "code",
   "execution_count": 17,
   "metadata": {},
   "outputs": [
    {
     "data": {
      "text/plain": [
       "(90675, 16)"
      ]
     },
     "execution_count": 17,
     "metadata": {},
     "output_type": "execute_result"
    }
   ],
   "source": [
    "test_df.shape"
   ]
  },
  {
   "cell_type": "code",
   "execution_count": 18,
   "metadata": {},
   "outputs": [],
   "source": [
    "ext_pred_proba = inner_model.predict_proba(test_df.drop(['impression_id'], axis=1))"
   ]
  },
  {
   "cell_type": "code",
   "execution_count": 19,
   "metadata": {},
   "outputs": [],
   "source": [
    "test_df['is_click'] = ext_pred_proba[:,1]\n"
   ]
  },
  {
   "cell_type": "code",
   "execution_count": 20,
   "metadata": {},
   "outputs": [],
   "source": [
    "inner_tst = test_df.loc[:,['impression_id', 'is_click' ]]"
   ]
  },
  {
   "cell_type": "code",
   "execution_count": 21,
   "metadata": {},
   "outputs": [
    {
     "data": {
      "text/html": [
       "<div>\n",
       "<style scoped>\n",
       "    .dataframe tbody tr th:only-of-type {\n",
       "        vertical-align: middle;\n",
       "    }\n",
       "\n",
       "    .dataframe tbody tr th {\n",
       "        vertical-align: top;\n",
       "    }\n",
       "\n",
       "    .dataframe thead th {\n",
       "        text-align: right;\n",
       "    }\n",
       "</style>\n",
       "<table border=\"1\" class=\"dataframe\">\n",
       "  <thead>\n",
       "    <tr style=\"text-align: right;\">\n",
       "      <th></th>\n",
       "      <th>impression_id</th>\n",
       "      <th>is_click</th>\n",
       "    </tr>\n",
       "  </thead>\n",
       "  <tbody>\n",
       "    <tr>\n",
       "      <th>0</th>\n",
       "      <td>a9e7126a585a69a32bc7414e9d0c0ada</td>\n",
       "      <td>0.005825</td>\n",
       "    </tr>\n",
       "    <tr>\n",
       "      <th>1</th>\n",
       "      <td>caac14a5bf2ba283db7708bb34855760</td>\n",
       "      <td>0.002757</td>\n",
       "    </tr>\n",
       "    <tr>\n",
       "      <th>2</th>\n",
       "      <td>13f10ba306a19ce7bec2f3cae507b698</td>\n",
       "      <td>0.115533</td>\n",
       "    </tr>\n",
       "    <tr>\n",
       "      <th>3</th>\n",
       "      <td>39c4b4dc0e9701b55a0a4f072008fb3f</td>\n",
       "      <td>0.005755</td>\n",
       "    </tr>\n",
       "    <tr>\n",
       "      <th>4</th>\n",
       "      <td>bf5a572cca75f5fc67f4b14e58b11d70</td>\n",
       "      <td>0.153471</td>\n",
       "    </tr>\n",
       "  </tbody>\n",
       "</table>\n",
       "</div>"
      ],
      "text/plain": [
       "                      impression_id  is_click\n",
       "0  a9e7126a585a69a32bc7414e9d0c0ada  0.005825\n",
       "1  caac14a5bf2ba283db7708bb34855760  0.002757\n",
       "2  13f10ba306a19ce7bec2f3cae507b698  0.115533\n",
       "3  39c4b4dc0e9701b55a0a4f072008fb3f  0.005755\n",
       "4  bf5a572cca75f5fc67f4b14e58b11d70  0.153471"
      ]
     },
     "execution_count": 21,
     "metadata": {},
     "output_type": "execute_result"
    }
   ],
   "source": [
    "inner_tst.head()"
   ]
  },
  {
   "cell_type": "code",
   "execution_count": 22,
   "metadata": {},
   "outputs": [],
   "source": [
    "submission_csv = inner_tst"
   ]
  },
  {
   "cell_type": "code",
   "execution_count": 23,
   "metadata": {},
   "outputs": [
    {
     "data": {
      "text/plain": [
       "(90675, 2)"
      ]
     },
     "execution_count": 23,
     "metadata": {},
     "output_type": "execute_result"
    }
   ],
   "source": [
    "submission_csv.shape"
   ]
  },
  {
   "cell_type": "code",
   "execution_count": 24,
   "metadata": {},
   "outputs": [],
   "source": [
    "submission_csv.to_csv(\"WNS_xgb_submission.csv\", index=False)\n"
   ]
  },
  {
   "cell_type": "code",
   "execution_count": null,
   "metadata": {},
   "outputs": [],
   "source": []
  }
 ],
 "metadata": {
  "kernelspec": {
   "display_name": "Python 3",
   "language": "python",
   "name": "python3"
  },
  "language_info": {
   "codemirror_mode": {
    "name": "ipython",
    "version": 3
   },
   "file_extension": ".py",
   "mimetype": "text/x-python",
   "name": "python",
   "nbconvert_exporter": "python",
   "pygments_lexer": "ipython3",
   "version": "3.7.0"
  }
 },
 "nbformat": 4,
 "nbformat_minor": 2
}
